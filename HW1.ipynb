{
  "nbformat": 4,
  "nbformat_minor": 0,
  "metadata": {
    "colab": {
      "name": "Untitled3.ipynb",
      "provenance": [],
      "authorship_tag": "ABX9TyNr+uEqq9HBevoxF/WOl7Q2",
      "include_colab_link": true
    },
    "kernelspec": {
      "name": "python3",
      "display_name": "Python 3"
    }
  },
  "cells": [
    {
      "cell_type": "markdown",
      "metadata": {
        "id": "view-in-github",
        "colab_type": "text"
      },
      "source": [
        "<a href=\"https://colab.research.google.com/github/pesener/GlobalAIHubPythonCourse/blob/main/HW1.ipynb\" target=\"_parent\"><img src=\"https://colab.research.google.com/assets/colab-badge.svg\" alt=\"Open In Colab\"/></a>"
      ]
    },
    {
      "cell_type": "code",
      "metadata": {
        "colab": {
          "base_uri": "https://localhost:8080/"
        },
        "id": "pKUO5OkFutqX",
        "outputId": "30d48a30-54fd-4470-8cb7-4a59a01af7c8"
      },
      "source": [
        "\r\n",
        "for Number in range (1, 101):\r\n",
        "  \r\n",
        "    for i in range(2, (Number//2 + 1)):\r\n",
        "        if(Number % i == 0):\r\n",
        "           n=random.randint(2,100)\r\n",
        "           \r\n",
        "\r\n",
        "    if (count == 0 and Number != 1):\r\n",
        "        print(\" %d\" %Number, end = '      ')\r\n",
        "        matrix = [[0 for x in range(3)] for y in range(3)]\r\n",
        "\r\n",
        "for i in range(3):\r\n",
        "  for j in range(3):\r\n",
        "    n=random.randint(1,101)\r\n",
        "    matrix[i][j]=isPrime(n)\r\n",
        "\r\n",
        "for i in range(len(matrix)):\r\n",
        "  for j in range(len(matrix[i])):\r\n",
        "    print(matrix[i][j],end='        ')\r\n",
        "  print()"
      ],
      "execution_count": 26,
      "outputs": [
        {
          "output_type": "stream",
          "text": [
            "29        1        3        \n",
            "43        23        73        \n",
            "41        13        59        \n"
          ],
          "name": "stdout"
        }
      ]
    },
    {
      "cell_type": "markdown",
      "metadata": {
        "id": "zF1AbFB69ltP"
      },
      "source": [
        ""
      ]
    }
  ]
}